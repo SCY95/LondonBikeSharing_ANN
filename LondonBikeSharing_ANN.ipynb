{
 "cells": [
  {
   "cell_type": "markdown",
   "metadata": {},
   "source": [
    "# **Londra Şehri Bisiklet Kiralama Tahmini**"
   ]
  },
  {
   "cell_type": "markdown",
   "metadata": {},
   "source": [
    "_Canberk İleri_ - [LinkedIn](https://www.linkedin.com/in/canberk-ileri-1a237947/) <br>\n",
    "_Salih Can Yılmaz_ - [LinkedIn](https://www.linkedin.com/in/salih-can-yilmaz-678755160/)"
   ]
  },
  {
   "cell_type": "markdown",
   "metadata": {},
   "source": [
    "Bisiklet kiralama sistemi, şehir trafiğinin azaltılmasını sağlayan yöntemlerden biridir. Trafiğin azalması, hava kirliliğini düşürmek için önemli bir faktördür. Araştırmadaki hipotez, bisiklet kiralamanın saat, gün, mevsim ve hava koşulları ile ilişkisinin yüksek olduğudur. Bu projede, gelecekteki bisiklet kiralama sayıları tahmin edilmeye çalışılacaktır. Gelecekteki kullanım verilerinin iyi tahmin edilmesi, hizmetlerin daha iyi yönetilmesine yardımcı olabilir. Aynı zamanda bu çalışma, makine öğrenimi yöntemlerinin bu tip problemlerde iyi çalışıp çalışmadığının da bir testi olacaktır."
   ]
  },
  {
   "cell_type": "markdown",
   "metadata": {},
   "source": [
    "## **Veri Seti**"
   ]
  },
  {
   "cell_type": "markdown",
   "metadata": {},
   "source": [
    "Bu çalışmada kullanılan veri seti, aşağıdaki üç kaynaktan bir araya getirilmiş:"
   ]
  },
  {
   "cell_type": "markdown",
   "metadata": {},
   "source": [
    "- https://cycling.data.tfl.gov.uk/ 'Contains OS data © Crown copyright and database rights 2016' and Geomni UK Map data © and database rights [2019] 'Powered by TfL Open Data' - **Bisiklet Kullanımı Verileri**"
   ]
  },
  {
   "cell_type": "markdown",
   "metadata": {},
   "source": [
    "- https://freemeteo.com - **Hava Durumu Bilgisi**"
   ]
  },
  {
   "cell_type": "markdown",
   "metadata": {},
   "source": [
    "- https://www.gov.uk/bank-holidays - **Londra'daki Resmi Tatiller**"
   ]
  },
  {
   "cell_type": "markdown",
   "metadata": {},
   "source": [
    "Bu veri saatlere göre gruplandıktan sonra Kaggle'da paylaşılmıştır. - https://www.kaggle.com/hmavrodiev/london-bike-sharing-dataset \n",
    "\n",
    "**NOT:** Resmi veride, başlangıç ve bitiş tarihi kolonları bulunmaktadır. Ancak hesaplama işlemlerini kolaylaştırmak amacıyla tüm turlar, her saat için başlangıç zamanına göre gruplanmıştır. Bisiklet kullanım süresinin 1 saati geçtiği durumlarda, bu kullanım sonraki saat için tekrar sayılmayacaktır."
   ]
  },
  {
   "cell_type": "markdown",
   "metadata": {},
   "source": [
    "## **Veri Seti Üzerindeki Diğer Çalışmalar**"
   ]
  },
  {
   "cell_type": "markdown",
   "metadata": {},
   "source": [
    "Bu veri seti üzerinde çalışmaya karar verildiğinde, Kaggle'a henüz bir çalışma yüklenmemişti. Bu süreçte yüklenen çalışmaların önemli bir bölümü, problemi çözmekten ziyade veri üzerindeki analizlerden oluşuyordu. Problemin çözümüyle uğraşan araştırmacılar ise Lineer Regresyon, XGBoost, Random Forest, AdaBoost, BaggingRegressor ve Support Vector Regressor yöntemlerini izlemiş. Bu algoritmalardan farklı olarak çözüm için Yapay Sinir Ağları veya Derin Öğrenme yaklaşımları kullanılmamış. Bu sebeple projede, Yapay Sinir Ağı kullanmayı seçtik. Bunun için TensorFlow ve Keras araçlarından faydalanmayı uygun bulduk."
   ]
  },
  {
   "cell_type": "markdown",
   "metadata": {},
   "source": [
    "## **Veri Analizi**"
   ]
  },
  {
   "cell_type": "markdown",
   "metadata": {},
   "source": [
    "#### **Klavuz Bilgi:**\n",
    "\n",
    "**\"timestamp\"** - veri gruplamak için zaman bilgisi<br>\n",
    "**\"cnt\"** - kiralanan bisiklet sayısı<br>\n",
    "**\"t1\"** - hissedilen sıcaklık (°C)<br>\n",
    "**\"t2\"** - gerçek sıcaklık (°C)<br>\n",
    "**\"hum\"** - bağıl nem<br>\n",
    "**\"wind_speed\"** - rüzgar hızı (km/s)<br>\n",
    "**\"weather_code\"** - hava durumu kodu<br>\n",
    "**\"is_holiday\"** - tatil mi? (0 / 1)<br>\n",
    "**\"is_weekend\"** - haftasonu mu? (0 / 1)<br>\n",
    "**\"season\"** - mevsimler (0-ilkbahar ; 1-yaz; 2-güz; 3-kış)<br>\n",
    "\n",
    "**\"weather_code\":** <br>\n",
    "1 = Açık <br>\n",
    "2 = Parçalı Bulutlu <br>\n",
    "3 = Yer Yer Açık Bulutlu <br>\n",
    "4 = Bulutlu <br>\n",
    "7 = Yağmurlu/ Hafif Sağanak <br>\n",
    "10 = Fırtınalı Yağmurlu <br>\n",
    "26 = Karlı <br>\n",
    "94 = Dondurucu Soğuk/Sisli <br>"
   ]
  },
  {
   "cell_type": "code",
   "execution_count": 16,
   "metadata": {},
   "outputs": [],
   "source": [
    "import matplotlib.pyplot as plt\n",
    "import tensorflow as tf\n",
    "from tensorflow import keras\n",
    "import numpy as np\n",
    "import pandas as pd\n",
    "from sklearn.utils import shuffle\n",
    "from sklearn import preprocessing\n",
    "import seaborn as sns\n",
    "from keras.layers import LeakyReLU\n",
    "from kerastuner.tuners import RandomSearch\n",
    "import shutil\n",
    "\n",
    "import seaborn as sns\n",
    "from PIL import Image "
   ]
  },
  {
   "cell_type": "code",
   "execution_count": 2,
   "metadata": {},
   "outputs": [
    {
     "data": {
      "text/html": [
       "<div>\n",
       "<style scoped>\n",
       "    .dataframe tbody tr th:only-of-type {\n",
       "        vertical-align: middle;\n",
       "    }\n",
       "\n",
       "    .dataframe tbody tr th {\n",
       "        vertical-align: top;\n",
       "    }\n",
       "\n",
       "    .dataframe thead th {\n",
       "        text-align: right;\n",
       "    }\n",
       "</style>\n",
       "<table border=\"1\" class=\"dataframe\">\n",
       "  <thead>\n",
       "    <tr style=\"text-align: right;\">\n",
       "      <th></th>\n",
       "      <th>timestamp</th>\n",
       "      <th>cnt</th>\n",
       "      <th>t1</th>\n",
       "      <th>t2</th>\n",
       "      <th>hum</th>\n",
       "      <th>wind_speed</th>\n",
       "      <th>weather_code</th>\n",
       "      <th>is_holiday</th>\n",
       "      <th>is_weekend</th>\n",
       "      <th>season</th>\n",
       "    </tr>\n",
       "  </thead>\n",
       "  <tbody>\n",
       "    <tr>\n",
       "      <th>0</th>\n",
       "      <td>2015-01-04 00:00:00</td>\n",
       "      <td>182</td>\n",
       "      <td>3.0</td>\n",
       "      <td>2.0</td>\n",
       "      <td>93.0</td>\n",
       "      <td>6.0</td>\n",
       "      <td>3.0</td>\n",
       "      <td>0.0</td>\n",
       "      <td>1.0</td>\n",
       "      <td>3.0</td>\n",
       "    </tr>\n",
       "    <tr>\n",
       "      <th>1</th>\n",
       "      <td>2015-01-04 01:00:00</td>\n",
       "      <td>138</td>\n",
       "      <td>3.0</td>\n",
       "      <td>2.5</td>\n",
       "      <td>93.0</td>\n",
       "      <td>5.0</td>\n",
       "      <td>1.0</td>\n",
       "      <td>0.0</td>\n",
       "      <td>1.0</td>\n",
       "      <td>3.0</td>\n",
       "    </tr>\n",
       "    <tr>\n",
       "      <th>2</th>\n",
       "      <td>2015-01-04 02:00:00</td>\n",
       "      <td>134</td>\n",
       "      <td>2.5</td>\n",
       "      <td>2.5</td>\n",
       "      <td>96.5</td>\n",
       "      <td>0.0</td>\n",
       "      <td>1.0</td>\n",
       "      <td>0.0</td>\n",
       "      <td>1.0</td>\n",
       "      <td>3.0</td>\n",
       "    </tr>\n",
       "    <tr>\n",
       "      <th>3</th>\n",
       "      <td>2015-01-04 03:00:00</td>\n",
       "      <td>72</td>\n",
       "      <td>2.0</td>\n",
       "      <td>2.0</td>\n",
       "      <td>100.0</td>\n",
       "      <td>0.0</td>\n",
       "      <td>1.0</td>\n",
       "      <td>0.0</td>\n",
       "      <td>1.0</td>\n",
       "      <td>3.0</td>\n",
       "    </tr>\n",
       "    <tr>\n",
       "      <th>4</th>\n",
       "      <td>2015-01-04 04:00:00</td>\n",
       "      <td>47</td>\n",
       "      <td>2.0</td>\n",
       "      <td>0.0</td>\n",
       "      <td>93.0</td>\n",
       "      <td>6.5</td>\n",
       "      <td>1.0</td>\n",
       "      <td>0.0</td>\n",
       "      <td>1.0</td>\n",
       "      <td>3.0</td>\n",
       "    </tr>\n",
       "  </tbody>\n",
       "</table>\n",
       "</div>"
      ],
      "text/plain": [
       "             timestamp  cnt   t1   t2    hum  wind_speed  weather_code  \\\n",
       "0  2015-01-04 00:00:00  182  3.0  2.0   93.0         6.0           3.0   \n",
       "1  2015-01-04 01:00:00  138  3.0  2.5   93.0         5.0           1.0   \n",
       "2  2015-01-04 02:00:00  134  2.5  2.5   96.5         0.0           1.0   \n",
       "3  2015-01-04 03:00:00   72  2.0  2.0  100.0         0.0           1.0   \n",
       "4  2015-01-04 04:00:00   47  2.0  0.0   93.0         6.5           1.0   \n",
       "\n",
       "   is_holiday  is_weekend  season  \n",
       "0         0.0         1.0     3.0  \n",
       "1         0.0         1.0     3.0  \n",
       "2         0.0         1.0     3.0  \n",
       "3         0.0         1.0     3.0  \n",
       "4         0.0         1.0     3.0  "
      ]
     },
     "execution_count": 2,
     "metadata": {},
     "output_type": "execute_result"
    }
   ],
   "source": [
    "london = pd.read_csv('london_merged.csv')\n",
    "london.head()"
   ]
  },
  {
   "cell_type": "code",
   "execution_count": 3,
   "metadata": {},
   "outputs": [
    {
     "data": {
      "text/plain": [
       "timestamp        object\n",
       "cnt               int64\n",
       "t1              float64\n",
       "t2              float64\n",
       "hum             float64\n",
       "wind_speed      float64\n",
       "weather_code    float64\n",
       "is_holiday      float64\n",
       "is_weekend      float64\n",
       "season          float64\n",
       "dtype: object"
      ]
     },
     "execution_count": 3,
     "metadata": {},
     "output_type": "execute_result"
    }
   ],
   "source": [
    "london.dtypes"
   ]
  },
  {
   "cell_type": "code",
   "execution_count": 4,
   "metadata": {},
   "outputs": [
    {
     "data": {
      "text/html": [
       "<div>\n",
       "<style scoped>\n",
       "    .dataframe tbody tr th:only-of-type {\n",
       "        vertical-align: middle;\n",
       "    }\n",
       "\n",
       "    .dataframe tbody tr th {\n",
       "        vertical-align: top;\n",
       "    }\n",
       "\n",
       "    .dataframe thead th {\n",
       "        text-align: right;\n",
       "    }\n",
       "</style>\n",
       "<table border=\"1\" class=\"dataframe\">\n",
       "  <thead>\n",
       "    <tr style=\"text-align: right;\">\n",
       "      <th></th>\n",
       "      <th>cnt</th>\n",
       "      <th>t1</th>\n",
       "      <th>t2</th>\n",
       "      <th>hum</th>\n",
       "      <th>wind_speed</th>\n",
       "      <th>weather_code</th>\n",
       "      <th>is_holiday</th>\n",
       "      <th>is_weekend</th>\n",
       "      <th>season</th>\n",
       "    </tr>\n",
       "  </thead>\n",
       "  <tbody>\n",
       "    <tr>\n",
       "      <th>count</th>\n",
       "      <td>17414.000000</td>\n",
       "      <td>17414.000000</td>\n",
       "      <td>17414.000000</td>\n",
       "      <td>17414.000000</td>\n",
       "      <td>17414.000000</td>\n",
       "      <td>17414.000000</td>\n",
       "      <td>17414.000000</td>\n",
       "      <td>17414.000000</td>\n",
       "      <td>17414.000000</td>\n",
       "    </tr>\n",
       "    <tr>\n",
       "      <th>mean</th>\n",
       "      <td>1143.101642</td>\n",
       "      <td>12.468091</td>\n",
       "      <td>11.520836</td>\n",
       "      <td>72.324954</td>\n",
       "      <td>15.913063</td>\n",
       "      <td>2.722752</td>\n",
       "      <td>0.022051</td>\n",
       "      <td>0.285403</td>\n",
       "      <td>1.492075</td>\n",
       "    </tr>\n",
       "    <tr>\n",
       "      <th>std</th>\n",
       "      <td>1085.108068</td>\n",
       "      <td>5.571818</td>\n",
       "      <td>6.615145</td>\n",
       "      <td>14.313186</td>\n",
       "      <td>7.894570</td>\n",
       "      <td>2.341163</td>\n",
       "      <td>0.146854</td>\n",
       "      <td>0.451619</td>\n",
       "      <td>1.118911</td>\n",
       "    </tr>\n",
       "    <tr>\n",
       "      <th>min</th>\n",
       "      <td>0.000000</td>\n",
       "      <td>-1.500000</td>\n",
       "      <td>-6.000000</td>\n",
       "      <td>20.500000</td>\n",
       "      <td>0.000000</td>\n",
       "      <td>1.000000</td>\n",
       "      <td>0.000000</td>\n",
       "      <td>0.000000</td>\n",
       "      <td>0.000000</td>\n",
       "    </tr>\n",
       "    <tr>\n",
       "      <th>25%</th>\n",
       "      <td>257.000000</td>\n",
       "      <td>8.000000</td>\n",
       "      <td>6.000000</td>\n",
       "      <td>63.000000</td>\n",
       "      <td>10.000000</td>\n",
       "      <td>1.000000</td>\n",
       "      <td>0.000000</td>\n",
       "      <td>0.000000</td>\n",
       "      <td>0.000000</td>\n",
       "    </tr>\n",
       "    <tr>\n",
       "      <th>50%</th>\n",
       "      <td>844.000000</td>\n",
       "      <td>12.500000</td>\n",
       "      <td>12.500000</td>\n",
       "      <td>74.500000</td>\n",
       "      <td>15.000000</td>\n",
       "      <td>2.000000</td>\n",
       "      <td>0.000000</td>\n",
       "      <td>0.000000</td>\n",
       "      <td>1.000000</td>\n",
       "    </tr>\n",
       "    <tr>\n",
       "      <th>75%</th>\n",
       "      <td>1671.750000</td>\n",
       "      <td>16.000000</td>\n",
       "      <td>16.000000</td>\n",
       "      <td>83.000000</td>\n",
       "      <td>20.500000</td>\n",
       "      <td>3.000000</td>\n",
       "      <td>0.000000</td>\n",
       "      <td>1.000000</td>\n",
       "      <td>2.000000</td>\n",
       "    </tr>\n",
       "    <tr>\n",
       "      <th>max</th>\n",
       "      <td>7860.000000</td>\n",
       "      <td>34.000000</td>\n",
       "      <td>34.000000</td>\n",
       "      <td>100.000000</td>\n",
       "      <td>56.500000</td>\n",
       "      <td>26.000000</td>\n",
       "      <td>1.000000</td>\n",
       "      <td>1.000000</td>\n",
       "      <td>3.000000</td>\n",
       "    </tr>\n",
       "  </tbody>\n",
       "</table>\n",
       "</div>"
      ],
      "text/plain": [
       "                cnt            t1            t2           hum    wind_speed  \\\n",
       "count  17414.000000  17414.000000  17414.000000  17414.000000  17414.000000   \n",
       "mean    1143.101642     12.468091     11.520836     72.324954     15.913063   \n",
       "std     1085.108068      5.571818      6.615145     14.313186      7.894570   \n",
       "min        0.000000     -1.500000     -6.000000     20.500000      0.000000   \n",
       "25%      257.000000      8.000000      6.000000     63.000000     10.000000   \n",
       "50%      844.000000     12.500000     12.500000     74.500000     15.000000   \n",
       "75%     1671.750000     16.000000     16.000000     83.000000     20.500000   \n",
       "max     7860.000000     34.000000     34.000000    100.000000     56.500000   \n",
       "\n",
       "       weather_code    is_holiday    is_weekend        season  \n",
       "count  17414.000000  17414.000000  17414.000000  17414.000000  \n",
       "mean       2.722752      0.022051      0.285403      1.492075  \n",
       "std        2.341163      0.146854      0.451619      1.118911  \n",
       "min        1.000000      0.000000      0.000000      0.000000  \n",
       "25%        1.000000      0.000000      0.000000      0.000000  \n",
       "50%        2.000000      0.000000      0.000000      1.000000  \n",
       "75%        3.000000      0.000000      1.000000      2.000000  \n",
       "max       26.000000      1.000000      1.000000      3.000000  "
      ]
     },
     "execution_count": 4,
     "metadata": {},
     "output_type": "execute_result"
    }
   ],
   "source": [
    "london.describe()"
   ]
  },
  {
   "cell_type": "markdown",
   "metadata": {},
   "source": [
    "Timestamp formatındaki zaman sütunu, daha sonra farklı sütunlara bölünmesi için \"yıl-ay-gün saat-dakika-saniye\" şeklinde formatlandı:"
   ]
  },
  {
   "cell_type": "code",
   "execution_count": 5,
   "metadata": {},
   "outputs": [],
   "source": [
    "london['timestamp'] = pd.to_datetime(london['timestamp'], format =\"%Y-%m-%d %H:%M:%S\")"
   ]
  },
  {
   "cell_type": "code",
   "execution_count": 6,
   "metadata": {},
   "outputs": [
    {
     "data": {
      "image/png": "[encoded data removed]",
      "text/plain": [
       "<Figure size 576x576 with 2 Axes>"
      ]
     },
     "metadata": {
      "needs_background": "light"
     },
     "output_type": "display_data"
    }
   ],
   "source": [
    "def plot_corr(df):\n",
    "    f, ax = plt.subplots(figsize=(8, 8))\n",
    "    cmap = sns.diverging_palette(220, 10, as_cmap=True)\n",
    "    sns.heatmap(df.corr(), cmap=cmap, vmax=1.0, vmin=-1.0, center=0,\n",
    "                square=True, linewidths=.5, cbar_kws={\"shrink\": .5})\n",
    "    plt.title('Korelasyon Matrisi')   \n",
    "plot_corr(london)"
   ]
  },
  {
   "cell_type": "markdown",
   "metadata": {},
   "source": [
    "$^{[2]}$Aşağıdaki çizimler ve öneriler için linkteki çalışmadan faydalanılmıştır."
   ]
  },
  {
   "cell_type": "code",
   "execution_count": 7,
   "metadata": {},
   "outputs": [
    {
     "data": {
      "image/png": "[encoded data removed]",
      "text/plain": [
       "<Figure size 432x288 with 1 Axes>"
      ]
     },
     "metadata": {
      "needs_background": "light"
     },
     "output_type": "display_data"
    },
    {
     "data": {
      "image/png": "[encoded data removed]",
      "text/plain": [
       "<Figure size 2160x360 with 9 Axes>"
      ]
     },
     "metadata": {
      "needs_background": "light"
     },
     "output_type": "display_data"
    }
   ],
   "source": [
    "london_non_weekend = london[london['is_weekend'] == 0]\n",
    "london_non_weekend = london_non_weekend.drop(['is_holiday','is_weekend'],axis=1)\n",
    "london_is_weekend = london[london['is_weekend'] == 1]\n",
    "london_is_weekend = london_is_weekend.drop(['is_holiday','is_weekend'],axis=1)\n",
    "london_is_holiday = london[london['is_holiday'] == 1]\n",
    "london_is_holiday = london_is_holiday.drop(['is_holiday','is_weekend'],axis=1)\n",
    "london_non_holiday = london[london['is_holiday'] == 0]\n",
    "london_non_holiday = london_non_holiday.drop(['is_holiday','is_weekend'],axis=1)\n",
    "\n",
    "def hourly_plot(df,title):    \n",
    "    df.groupby(by=df.timestamp.dt.hour)['cnt'].mean().plot()\n",
    "    plt.title(title)\n",
    "    plt.xticks(range(24))\n",
    "    plt.ylabel('count')\n",
    "    plt.legend(['Çalışma Günleri','Haftasonu','Tatil Günleri'],loc=2, fontsize = 'small')\n",
    "    \n",
    "hourly_plot(london_non_weekend, 'Saatlik Bisiklet Kiralama Sayısı')\n",
    "hourly_plot(london_is_weekend, 'Saatlik Bisiklet Kiralama Sayısı')\n",
    "hourly_plot(london_is_holiday, 'Saatlik Bisiklet Kiralama Sayısı')\n",
    "\n",
    "def plot_distribution(london,columns,**kwargs ):    \n",
    "    fig, axes = plt.subplots(ncols=len(columns),figsize=(30,5))\n",
    "    for axs, col in zip(axes, columns):\n",
    "        sns.distplot(london[col], ax=axs,**kwargs)\n",
    "    fig.suptitle('Özellik Dağılımı')    \n",
    "plot_distribution(london,london.drop(['timestamp'],axis=1).columns, kde=False)"
   ]
  },
  {
   "cell_type": "markdown",
   "metadata": {},
   "source": [
    "Yukarıdaki görsel, bisiklet kiralama sayısı ile çalışma günleri, haftasonu ve tatil günleri arasındaki ilişkiyi göstermektedir. Bu grafikten yola çıkılarak, haftasonu ve tatil günlerindeki kiralama davranışının aynı seyrettiği gözlemlenir. İkinci grafikte, \"is_holiday\" sütununun dağılımının dengesiz olduğu görülmektedir. Bu sütunu \"is_weekend\" sütunuyla gruplayarak hem bu dengesizlik giderilir hem de sergilenen davranışın aynı olması, yapılan işlemi uyumlu hale getirir. \"is_holiday\" ve \"is_weekend\" sütunları bir araya getirilerek \"is_non_workday\" sütunu oluşturuldu. Bu üç grup, çalışma günü olan ve olmayan günler olarak ikiye ayrılmış oldu."
   ]
  },
  {
   "cell_type": "markdown",
   "metadata": {},
   "source": [
    "\"Saatlik Bisiklet Kiralama Sayısı\" grafiği, bize bisiklet kiralamalarının gün içindeki dağılımını göstermektedir. Bu dağılıma göre, bisiklet kiralama sayıları gece çok düşük, gündüz ise geceye göre yüksek seyretmektedir. Bu gözlem, veri setine gece ile gündüzü ayıracak bir sütun eklenmesinin olumlu sonuç verebileceğini göstermektedir. Bu gözlemlerin ışığında, gece ve gündüz bilgisini içerecek olan \"is_night\" sütununun eklenmesine karar verildi."
   ]
  },
  {
   "cell_type": "markdown",
   "metadata": {},
   "source": [
    "Ayrıca bu grafiğe göre, çalışma günlerinde iş giriş ve çıkış saatleri olan 08.00, 17.00 ve 18.00 saatlerinde; tatil günlerinde ise 12.00 ile 18.00 arasında yoğunluk görülmektedir. Yoğun saatleri, diğerlerinden ayırayacak olan \"rush_hour\" sütunu eklendi."
   ]
  },
  {
   "cell_type": "markdown",
   "metadata": {},
   "source": [
    "Timestamp tipindeki zaman verisi yıl, ay, gün ve saat sütunları oluşacak şekilde bölündü."
   ]
  },
  {
   "cell_type": "code",
   "execution_count": 8,
   "metadata": {},
   "outputs": [],
   "source": [
    "def merge_and_split_columns(df):\n",
    "    df['timestamp'] = pd.to_datetime(london['timestamp'], format =\"%Y-%m-%d %H:%M:%S\")\n",
    "    \n",
    "    df['is_non_workday'] = df['is_holiday'] + df['is_weekend']\n",
    "    df = df.drop(['is_holiday','is_weekend'],axis=1)\n",
    "         \n",
    "    df['month'] = df['timestamp'].dt.month \n",
    "    df['year'] = df['timestamp'].dt.year \n",
    "    df['day']=df['timestamp'].dt.day\n",
    "    df['hour'] = df['timestamp'].dt.hour\n",
    "    df['day_of_week']=df['timestamp'].dt.dayofweek\n",
    "         \n",
    "    df['is_night'] = 0\n",
    "    df.loc[(df['hour'] < 6) | (df['hour'] > 20), 'is_night'] = 1\n",
    "    \n",
    "    df['rush_hour'] = 1\n",
    "    df.loc[((df['is_non_workday'] == 0) & ((df['hour'] == 8) | (df['hour'] == 17) | (df['hour'] == 18))) | \n",
    "            ((df['is_non_workday'] == 1) & ( (df['hour'] == 12) | (df['hour'] == 13) | (df['hour'] == 14) | (df['hour'] == 15) | \n",
    "                    (df['hour'] == 16) | (df['hour'] == 17))), 'rush_hour'] = 0\n",
    "         \n",
    "    return df\n",
    "\n",
    "london = merge_and_split_columns(london)"
   ]
  },
  {
   "cell_type": "markdown",
   "metadata": {},
   "source": [
    "## **Test ve Eğitim Verilerinin Ayrılması**"
   ]
  },
  {
   "cell_type": "markdown",
   "metadata": {},
   "source": [
    "Veri setindeki veriler iki yıllık periyodik veriler olduğundan, eğitim ve test verileri ayrılırken direkt karıştırarak ayırmak olumsuz sonuçlar doğurabilir. Başka bir yaklaşımla, verilerin herhangi bir kısmından toplu olarak ayırmak da dengesizliğe sebep olabilir. Çünkü bazı aylardan ve mevsimlerden fazla veri seçilmesi, bazılarının ise eksik kalması sistemi yanlış yönlendirecektir.\n",
    "\n",
    "Bu problemin aşılması için 2015 yılında, herbir mevsimin başlangıç ayının ilk 10 günü, ortancı ayının 10. ile 20. günü arası ve bitiş ayının 20. ile 30. günü arası test verisi için alındı. 2016 yılı için ise ayları ayırma işlemi ilk ayın son 10 günü, ikinci ayın 10. ile 20.günü arasını ve üçüncü ayın ilk 10 günü olmak üzere ayrıldı. Yani verinin 3'te 2'si eğitim, 3'te 1'i ise test için ayrılmış oldu."
   ]
  },
  {
   "cell_type": "code",
   "execution_count": 9,
   "metadata": {},
   "outputs": [],
   "source": [
    "def split_train_and_test(london):\n",
    "    splitMonth = 10\n",
    "\n",
    "    london = shuffle(london)\n",
    "    \n",
    "    \n",
    "    london_test1 = london[((london.month == 3) | (london.month == 6) | \n",
    "            (london.month == 9) |  (london.month == 12)) & (london.day <= splitMonth) & (london.year == 2015)]\n",
    "    london_test2 = london[((london.month == 1) | (london.month == 4) | \n",
    "            (london.month == 7) |  (london.month == 10)) & ((london.day <= splitMonth * 2) & (london.day > splitMonth)) & (london.year == 2015)]\n",
    "    london_test3 = london[((london.month == 2) | (london.month == 5) | \n",
    "            (london.month == 8) |  (london.month == 11)) & (london.day > splitMonth * 2) & (london.year == 2015)]\n",
    "    london_test4 = london_test1.append(london_test2)\n",
    "    london_test5 = london_test4.append(london_test3)\n",
    "      \n",
    "    london_train1 = london[((london.month == 3) | (london.month == 6) | \n",
    "            (london.month == 9) |  (london.month == 12)) & (london.day > splitMonth) & (london.year == 2015)]\n",
    "    london_train2 = london[((london.month == 1) | (london.month == 4) | \n",
    "            (london.month == 7) |  (london.month == 10)) & ((london.day > splitMonth * 2) | (london.day <= splitMonth)) & (london.year == 2015)]\n",
    "    london_train3 = london[((london.month == 2) | (london.month == 5) | \n",
    "            (london.month == 8) |  (london.month == 11)) & (london.day <= splitMonth * 2) & (london.year == 2015)]\n",
    "    london_train4 = london_train1.append(london_train2)\n",
    "    london_train5 = london_train4.append(london_train3)\n",
    "    \n",
    "    \n",
    "    london_test6 = london[((london.month == 2) | (london.month == 5) | \n",
    "            (london.month == 8) |  (london.month == 11)) & (london.day <= splitMonth) & (london.year == 2016)]\n",
    "    london_test7 = london[((london.month == 1) | (london.month == 4) | \n",
    "            (london.month == 7) |  (london.month == 10)) & ((london.day <= splitMonth * 2) & (london.day > splitMonth)) & (london.year == 2016)]\n",
    "    london_test8 = london[((london.month == 3) | (london.month == 6) | \n",
    "            (london.month == 9) |  (london.month == 12)) & (london.day > splitMonth * 2) & (london.year == 2016)]\n",
    "    london_test9 = london_test6.append(london_test7)\n",
    "    london_test10 = london_test9.append(london_test8)\n",
    "      \n",
    "    london_train6 = london[((london.month == 2) | (london.month == 5) | \n",
    "            (london.month == 8) |  (london.month == 11)) & (london.day > splitMonth) & (london.year == 2016)]\n",
    "    london_train7 = london[((london.month == 1) | (london.month == 4) | \n",
    "            (london.month == 7) |  (london.month == 10)) & ((london.day > splitMonth * 2) | (london.day <= splitMonth)) & (london.year == 2016)]\n",
    "    london_train8 = london[((london.month == 3) | (london.month == 6) | \n",
    "            (london.month == 9) |  (london.month == 12)) & (london.day <= splitMonth * 2) & (london.year == 2016)]\n",
    "    london_train9 = london_train6.append(london_train7)\n",
    "    london_train10 = london_train9.append(london_train8)\n",
    "    \n",
    "    london_test = london_test5.append(london_test10)\n",
    "    london_train = london_train5.append(london_train10)\n",
    "    \n",
    "    return london_train, london_test\n",
    "london_train, london_test = split_train_and_test(london)"
   ]
  },
  {
   "cell_type": "code",
   "execution_count": 10,
   "metadata": {},
   "outputs": [
    {
     "data": {
      "image/png": "[encoded data removed]",
      "text/plain": [
       "<Figure size 576x576 with 2 Axes>"
      ]
     },
     "metadata": {
      "needs_background": "light"
     },
     "output_type": "display_data"
    }
   ],
   "source": [
    "plot_corr(london)"
   ]
  },
  {
   "cell_type": "markdown",
   "metadata": {},
   "source": [
    "Korelasyon matrisinden yola çıkarak veri üzerinde bazı işlemler yapıldı. Öncelikle t1 ve t2 özellikleri, neredeyse aynı dağılımı gösterdiklerinden hissedilen sıcaklık anlamına gelen t2 korunup t1 düşürüldü. Tatil ve çalışma günlerinin incelenmesi oluşturulan \"day_of_week\" de kaldırıldı. Elimizde az veri bulundğu için ay, yıl ve mevsim değişkenlerinin dağılımdaki etkisi gözlenemeyecek kadar az olur; bu nedenle veri setinden çıkarıldılar. Zaten matriste olmaması gereken kategorik değişkenlerin ise tip dönüşümü yapıldı. Son olarak verilerin rastgele karıştırılması işlemi yapıldı."
   ]
  },
  {
   "cell_type": "code",
   "execution_count": 11,
   "metadata": {},
   "outputs": [],
   "source": [
    "def drop_and_categorize(london_train, london_test):\n",
    "    london_test = london_test.drop(['timestamp'],axis=1)\n",
    "    london_test = london_test.drop(['t1'],axis=1)\n",
    "    london_test = london_test.drop(['day_of_week'],axis=1)\n",
    "    \n",
    "    london_train = london_train.drop(['timestamp'],axis=1)\n",
    "    london_train = london_train.drop(['t1'],axis=1)\n",
    "    london_train = london_train.drop(['day_of_week'],axis=1)\n",
    "    \n",
    "    \n",
    "    london_test = london_test.drop(['year'],axis=1)\n",
    "    london_train = london_train.drop(['year'],axis=1)\n",
    "    \n",
    "    \n",
    "    london_train.weather_code = pd.Series(london_train.weather_code, dtype=\"category\")\n",
    "    london_train.month = pd.Series(london_train.month, dtype=\"category\")\n",
    "    london_train.day = pd.Series(london_train.day, dtype=\"category\")\n",
    "    london_train.hour = pd.Series(london_train.hour, dtype=\"category\")\n",
    "    london_train.is_non_workday = pd.Series(london_train.is_non_workday, dtype=\"bool\")\n",
    "    london_train.is_night = pd.Series(london_train.is_non_workday, dtype=\"bool\")\n",
    "    london_train.rush_hour = pd.Series(london_train.is_non_workday, dtype=\"bool\")\n",
    "    \n",
    "    \n",
    "    london_train = london_train.drop(['month'],axis=1)\n",
    "    london_train = london_train.drop(['season'],axis=1)\n",
    "    \n",
    "    \n",
    "    \n",
    "    london_test.weather_code = pd.Series(london_test.weather_code, dtype=\"category\")\n",
    "    london_test.month = pd.Series(london_test.month, dtype=\"category\")\n",
    "    london_test.day = pd.Series(london_test.day, dtype=\"category\")\n",
    "    london_test.hour = pd.Series(london_test.hour, dtype=\"category\")\n",
    "    london_test.is_non_workday = pd.Series(london_test.is_non_workday, dtype=\"bool\")\n",
    "    london_test.is_night = pd.Series(london_test.is_non_workday, dtype=\"bool\")\n",
    "    london_test.rush_hour = pd.Series(london_test.is_non_workday, dtype=\"bool\")\n",
    "    \n",
    "    \n",
    "    \n",
    "    london_test = london_test.drop(['month'],axis=1)\n",
    "    london_test = london_test.drop(['season'],axis=1)\n",
    "    \n",
    "    london_test = shuffle(london_test)\n",
    "    london_train = shuffle(london_train)\n",
    "    \n",
    "    return london_train, london_test\n",
    "\n",
    "london_train, london_test = drop_and_categorize(london_train,london_test)"
   ]
  },
  {
   "cell_type": "markdown",
   "metadata": {},
   "source": [
    "Test ve eğitim verilerinde, çıkış sütunu ile eğitimde kullanılacak sütunlar ayrıldı."
   ]
  },
  {
   "cell_type": "code",
   "execution_count": 12,
   "metadata": {},
   "outputs": [],
   "source": [
    "def split_target(london_train, london_test):\n",
    "    london_train = london_train.drop(['day'],axis=1)\n",
    "    london_train_Y = london_train['cnt']\n",
    "    london_train_X = london_train.drop(['cnt'],axis=1)\n",
    "    \n",
    "    \n",
    "    \n",
    "    london_test = london_test.drop(['day'],axis=1)\n",
    "    london_test_Y = london_test['cnt']\n",
    "    london_test_X = london_test.drop(['cnt'],axis=1)\n",
    "    \n",
    "    return london_train_X, london_train_Y, london_test_X, london_test_Y\n",
    "\n",
    "london_train_X, london_train_Y, london_test_X, london_test_Y = split_target(london_train,london_test)"
   ]
  },
  {
   "cell_type": "markdown",
   "metadata": {},
   "source": [
    "Veri setindeki istenmeyen kolonlar düşürülüp, kategorik olması gereken değişkenler de değiştirildikten sonra geri kalan nümerik değişkenler ölçeklendi."
   ]
  },
  {
   "cell_type": "code",
   "execution_count": 13,
   "metadata": {},
   "outputs": [],
   "source": [
    "def scaling(london_train_X,london_test_X):\n",
    "    london_train_X[['t2','hum','wind_speed']] = preprocessing.scale(london_train_X[['t2','hum','wind_speed']])\n",
    "    london_test_X[['t2','hum','wind_speed']] = preprocessing.scale(london_test_X[['t2','hum','wind_speed']])       \n",
    "    return london_train_X, london_test_X\n",
    "london_train_X, london_test_X = scaling(london_train_X,london_test_X)"
   ]
  },
  {
   "cell_type": "markdown",
   "metadata": {},
   "source": [
    "## **Yapay Sinir Ağı Modeli**"
   ]
  },
  {
   "cell_type": "markdown",
   "metadata": {},
   "source": [
    "Daha önce tanımladığımız problem, yukarıda hazırlanma aşamalarını anlattığımız veri seti kullanılarak aşağıdaki modelle çözülecektir. Parametreler ve katmanlar, çok sayıdaki deneme sonucunda bulunan en uygun haliyle yazılmıştır."
   ]
  },
  {
   "cell_type": "markdown",
   "metadata": {},
   "source": [
    "Aşağıdaki kod blokları, hiperparametre optimizasyonunu sağlamak amacıyla yazılmıştır. \"build_model\" fonksiyonu, katmanlardaki düğüm sayısının ve öğrenme katsayısının değişim aralığını ifade eder. CustomTuner sınıfı ise RandomSearch sınıfını, \"batch_size\" ve \"epochs\" parametrelerini değişebilir kılmak için modifiye eder."
   ]
  },
  {
   "cell_type": "code",
   "execution_count": 14,
   "metadata": {},
   "outputs": [],
   "source": [
    "def build_model(hp):\n",
    "    model = keras.Sequential([\n",
    "        keras.layers.Dense(n_cols, input_shape=(n_cols,)),\n",
    "        keras.layers.Dense(units = hp.Int('unit1', min_value = 32, max_value = 512, step = 32),activation=LeakyReLU(alpha=0.01)),\n",
    "        keras.layers.Dense(units = hp.Int('unit2', min_value = 32, max_value = 256, step = 32),activation=LeakyReLU(alpha=0.01)),\n",
    "        keras.layers.Dense(units = hp.Int('unit3', min_value = 0, max_value = 128, step = 16),activation=LeakyReLU(alpha=0.01)),\n",
    "        keras.layers.Dense(units = hp.Int('unit3', min_value = 0, max_value = 64, step = 16),activation=LeakyReLU(alpha=0.01)),                              \n",
    "        keras.layers.Dense(1, activation='relu')        \n",
    "        ])\n",
    "    keras.optimizers.Nadam(hp.Choice('learning_rate',\n",
    "                      values=[1e-2, 1e-3, 1e-4]))\n",
    "    #keras.initializers.RandomNormal(mean=0.0, stddev=5, seed=2021)\n",
    "    model.compile(optimizer='Nadam', loss='mse', metrics=['mae'])\n",
    "    \n",
    "    return model\n",
    "\n",
    "class CustomTuner(RandomSearch):\n",
    "    def run_trial(self, trial, *args, **kwargs):\n",
    "        kwargs['batch_size'] = trial.hyperparameters.Int('batch_size', 64, 256, step=64)\n",
    "        kwargs['epochs'] = trial.hyperparameters.Int('epochs', 40, 60 , step=10)#min,max,step\n",
    "        super(CustomTuner, self).run_trial(trial, *args, **kwargs)"
   ]
  },
  {
   "cell_type": "markdown",
   "metadata": {},
   "source": [
    "Farklı varyasyonlarla denenen modellerin parametrelerini, bir dosya sistemi şeklinde \"directory\" ve \"project_name\" ile belirtilen adrese kaydeder. \"execution_per_trial\" her bir varyasyonun kaç defa deneneceğini belirtir; bu sadece olasılıksallık aşılmış olur. \"Max_trials\" ise farklı varyasyon limitini belirtir.\n",
    "\n",
    "\"callbacks\", doğrulama kaybı$^{[1]}$ değerine bakar ve beş sefer iyileşme görülmezse eğitimi keser."
   ]
  },
  {
   "cell_type": "code",
   "execution_count": null,
   "metadata": {},
   "outputs": [],
   "source": [
    "n_cols = london_train_X.shape[1]\n",
    "\n",
    "shutil.rmtree('./LondonBikeSharing', ignore_errors=True)\n",
    "\n",
    "tuner = CustomTuner(\n",
    "    build_model,\n",
    "    objective='val_loss',\n",
    "    max_trials=100,\n",
    "    executions_per_trial=3,\n",
    "    directory='./',\n",
    "    project_name='LondonBikeSharing')\n",
    "\n",
    "tuner.search(london_train_X, london_train_Y,\n",
    "             validation_split=0.15, callbacks=[tf.keras.callbacks.EarlyStopping('val_loss', patience=5)])\n",
    "\n",
    "models = tuner.get_best_models(num_models=1)\n",
    "\n",
    "random_params = tuner.get_best_hyperparameters()[0]\n",
    "\n",
    "random_model = tuner.hypermodel.build(random_params)\n",
    "\n",
    "history = random_model.fit(london_train_X.values, london_train_Y.values.flatten(), epochs=75)\n",
    "test_loss = random_model.evaluate(london_test_X,london_test_Y)"
   ]
  },
  {
   "cell_type": "markdown",
   "metadata": {},
   "source": [
    "Mean Squarred Error ile hesaplanan \"loss\" yani öğrenme hatasının değişimi grafik üzerinde gösterilmiştir. Doğrulama hatası olan \"val_loss\" ise parametreler öğrenildikten sonraki eğitim esnasında doğrulama ayrımı yapılmadığından hesaplanmamıştır."
   ]
  },
  {
   "cell_type": "code",
   "execution_count": null,
   "metadata": {},
   "outputs": [],
   "source": [
    "def plotLoss(history):  \n",
    "    plt.plot(history.history['loss'])\n",
    "    #plt.plot(history.history['val_loss'])\n",
    "    plt.title('Model loss')\n",
    "    plt.ylabel('Loss')\n",
    "    plt.xlabel('Epoch')\n",
    "    plt.legend(['Train', 'Val'], loc='upper left')\n",
    "    plt.figure(figsize=(20,20))\n",
    "    plt.show()\n",
    "    \n",
    "plotLoss(history)"
   ]
  },
  {
   "cell_type": "markdown",
   "metadata": {},
   "source": [
    "Kiralama hedefleri ile tahminleri grafik üzerinde gösterilmiştir:"
   ]
  },
  {
   "cell_type": "code",
   "execution_count": null,
   "metadata": {},
   "outputs": [],
   "source": [
    "def plotCount():      \n",
    "    Predict = random_model.predict(london_test_X)\n",
    "    Target = london_test_Y.to_numpy()\n",
    "    Target = Target.reshape(london_test_X.shape[0],1)\n",
    "    ErrorDiff = Target - Predict\n",
    "    ErrorDiff = ErrorDiff.reshape(london_test_X.shape[0],1)\n",
    "    \n",
    "    plt.plot(Target)\n",
    "    plt.plot(Predict)\n",
    "    plt.title('CNT')\n",
    "    plt.ylabel('Bike Count')\n",
    "    plt.xlabel('Input')\n",
    "    plt.legend(['Target','Predict'], loc='upper left')\n",
    "    plt.figure(figsize=(20,20))\n",
    "    plt.show()   \n",
    "\n",
    "plotCount() "
   ]
  },
  {
   "cell_type": "markdown",
   "metadata": {},
   "source": [
    "## **Sonuç**"
   ]
  },
  {
   "cell_type": "markdown",
   "metadata": {},
   "source": [
    "Kurulan yapay sinir ağı modeli, girdi sayısı yani kolon sayısı kadar giriş katmanı içeriyor. Çıkış katmanı ise bir adet çünkü problemimiz bir regresyon problemi. İstenilen çıkış ise bir tam sayı değeridir. Gizli katmanlardaki parametreler ise kurduğumuz optimizasyon aracınca belirlenmiştir.\n",
    "\n",
    "Alınan en iyi sonucun grafiği aşağıda gösterilmiştir. Siz de kaynak kodları indirip, parametrelerle oynayarak kendi denemelerinizi yapabilirsiniz."
   ]
  },
  {
   "cell_type": "markdown",
   "metadata": {},
   "source": [
    "**loss = 65789.3590 <br>\n",
    "mean_absolute_error = 152.5145**"
   ]
  },
  {
   "cell_type": "markdown",
   "metadata": {},
   "source": [
    "![title](modelloss_65bin.png)"
   ]
  },
  {
   "cell_type": "markdown",
   "metadata": {},
   "source": [
    "![title](modelcnt_65bin.png)"
   ]
  },
  {
   "cell_type": "markdown",
   "metadata": {},
   "source": [
    "## **Referanslar**"
   ]
  },
  {
   "cell_type": "markdown",
   "metadata": {},
   "source": [
    "[1] https://github.com/deeplearningturkiye/turkce-yapay-zeka-terimleri/blob/master/ingilizce-turkce.md <br>\n",
    "[2] https://www.kaggle.com/hmavrodiev/bike-sharing-prediction-rf-xgboost"
   ]
  }
 ],
 "metadata": {
  "kernelspec": {
   "display_name": "Python 3",
   "language": "python",
   "name": "python3"
  },
  "language_info": {
   "codemirror_mode": {
    "name": "ipython",
    "version": 3
   },
   "file_extension": ".py",
   "mimetype": "text/x-python",
   "name": "python",
   "nbconvert_exporter": "python",
   "pygments_lexer": "ipython3",
   "version": "3.7.4"
  }
 },
 "nbformat": 4,
 "nbformat_minor": 4
}
